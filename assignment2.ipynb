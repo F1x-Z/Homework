{
 "cells": [
  {
   "cell_type": "markdown",
   "metadata": {},
   "source": [
    "## Instructions\n",
    "\n",
    "Write a Python function to return the prime numbers from a given list.\n",
    "\n",
    "1. **Define the Function:** Start by defining a Python function named `get_prime` to perform the task.\n",
    "\n",
    "2. **Function Parameters:** The function should take one parameter, `input_ls`, representing the list to find the prime numbers.\n",
    "\n",
    "3. **Algorithm:** Implement an algorithm within the function to find the prime numbers.\n",
    "\n",
    "4. **Return Value:** The function should return the list with prime numbers.\n",
    "\n",
    "5. **Define the input list:** Input list is provided.\n",
    "\n",
    "6. **Function Call:** Call the `get_prime` function with the `input_ls` as the argument.\n",
    "\n",
    "7. **Output:** Print the `output_ls` returned by the function.\n",
    "\n"
   ]
  },
  {
   "cell_type": "code",
   "execution_count": null,
   "metadata": {},
   "outputs": [
    {
     "name": "stdout",
     "output_type": "stream",
     "text": [
      "Prime numbers: [67, 97, 31, 59, 89, 23, 97]\n"
     ]
    }
   ],
   "source": [
    "def get_prime(input_ls):\n",
    "    \"\"\"Setup an empty list and 0 for the count, when the number n can be fully divided by a number from 1~n, the count of this number will automatically+1, \n",
    "    everytime when there is a number that can only be fully divided by 1 and itself, to be more specific, when count=2. \n",
    "    That is a prime number, and we append it to the list that we created.\"\"\"\n",
    "    output_ls = []\n",
    "    for n in input_ls:\n",
    "        count=0\n",
    "        for i in range(1, n + 1):\n",
    "          if n%i==0:\n",
    "            count+=1\n",
    "        if count==2:\n",
    "          output_ls.append(n)\n",
    "    return output_ls\n",
    "# Define the input list\n",
    "import numpy as np\n",
    "input_ls = [np.random.randint(0,100) for i in range(25)]\n",
    "\n",
    "# Function Call\n",
    "output_ls = get_prime(input_ls)\n",
    "\n",
    "# Output\n",
    "print(\"Prime numbers:\", output_ls)\n",
    "\n",
    "\n"
   ]
  }
 ],
 "metadata": {
  "kernelspec": {
   "display_name": "Python 3",
   "language": "python",
   "name": "python3"
  },
  "language_info": {
   "codemirror_mode": {
    "name": "ipython",
    "version": 3
   },
   "file_extension": ".py",
   "mimetype": "text/x-python",
   "name": "python",
   "nbconvert_exporter": "python",
   "pygments_lexer": "ipython3",
   "version": "3.12.8"
  }
 },
 "nbformat": 4,
 "nbformat_minor": 2
}
