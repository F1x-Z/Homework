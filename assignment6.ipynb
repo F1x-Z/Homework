{
 "cells": [
  {
   "cell_type": "markdown",
   "metadata": {},
   "source": [
    "This code defines a simple implementation of a class :HashTable in Python.\n",
    "\n",
    "## Instructions\n",
    "\n",
    "1. **Create a rectangle:** Constract a rectangle instance with width 10 and length 20.\n",
    "\n",
    "2. **Insert Values:** Call the methods of the `Rectangle` class to compute the area and perimeter of the rectangle.\n",
    "\n",
    "3. **Write a function** Add a method in the Rectangle class to print the attributes of the rentangle. \n"
   ]
  },
  {
   "cell_type": "code",
   "execution_count": null,
   "metadata": {},
   "outputs": [],
   "source": [
    "class Rectangle:\n",
    "    def __init__(self, length, width):\n",
    "        self.length = length\n",
    "        self.width = width\n",
    "    \n",
    "    def area(self):\n",
    "        return self.length * self.width\n",
    "    \n",
    "    def perimeter(self):\n",
    "        return 2 * (self.length + self.width)\n",
    "    \n",
    "    def attributes(self):\n",
    "    # get the length and width of the rectangle which are also two of the rectangle's attributes\n",
    "        return(\"The length is: \" + self.length + \"The width is: \" + self.width) \n",
    "obj = Rectangle(20, 10)\n",
    "'''get length and width'''\n",
    "obj.attributes\n",
    "'''get area and perimeter'''\n",
    "print(\"The area is: \" + obj.area() + \"and the perimeter is: \" + obj.perimeter())\n",
    "\n",
    "\n"
   ]
  }
 ],
 "metadata": {
  "kernelspec": {
   "display_name": ".venv",
   "language": "python",
   "name": "python3"
  },
  "language_info": {
   "name": "python",
   "version": "3.12.1"
  }
 },
 "nbformat": 4,
 "nbformat_minor": 2
}
